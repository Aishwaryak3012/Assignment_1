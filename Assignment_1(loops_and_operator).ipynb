{
 "cells": [
  {
   "cell_type": "markdown",
   "id": "1fd02cc9",
   "metadata": {},
   "source": [
    "### Write a Python program to get the Fibonacci series between 0 to 50"
   ]
  },
  {
   "cell_type": "code",
   "execution_count": 5,
   "id": "59e9f989",
   "metadata": {},
   "outputs": [
    {
     "name": "stdout",
     "output_type": "stream",
     "text": [
      "1\n",
      "1\n",
      "2\n",
      "3\n",
      "5\n",
      "8\n",
      "13\n",
      "21\n",
      "34\n"
     ]
    }
   ],
   "source": [
    "n1 = 1\n",
    "n2 = 1\n",
    "print(n1)\n",
    "\n",
    "for i in range(50):\n",
    "    n1,n2 = n2,n1+n2    \n",
    "    if n1 <= 50:\n",
    "        print(n1)\n",
    "    else:\n",
    "        break\n"
   ]
  },
  {
   "cell_type": "markdown",
   "id": "555a14dd",
   "metadata": {},
   "source": [
    "### Write a Python program that accepts a word from the user and reverse it.\n",
    "\n"
   ]
  },
  {
   "cell_type": "code",
   "execution_count": 6,
   "id": "466c7aa7",
   "metadata": {},
   "outputs": [
    {
     "name": "stdout",
     "output_type": "stream",
     "text": [
      "Enter the word:Edyoda\n",
      "adoydE\n"
     ]
    }
   ],
   "source": [
    "word = input(\"Enter the word:\")\n",
    "for i in word:\n",
    "    print(word[::-1])\n",
    "    break"
   ]
  },
  {
   "cell_type": "markdown",
   "id": "f78ed096",
   "metadata": {},
   "source": [
    "### Write a Python program to count the number of even and odd numbers from a series of numbers."
   ]
  },
  {
   "cell_type": "code",
   "execution_count": 7,
   "id": "110b79a2",
   "metadata": {},
   "outputs": [
    {
     "name": "stdout",
     "output_type": "stream",
     "text": [
      "Count of even numbers: 4\n",
      "Count of odd numbers: 5\n"
     ]
    }
   ],
   "source": [
    "numbers = (1, 2, 3, 4, 5, 6, 7, 8, 9) \n",
    "even_count = 0\n",
    "odd_count = 0\n",
    "for num in numbers:\n",
    "    if num % 2 == 0:\n",
    "        even_count = even_count + 1\n",
    "    else:\n",
    "        odd_count = odd_count + 1\n",
    "print(\"Count of even numbers:\",even_count)\n",
    "print(\"Count of odd numbers:\",odd_count)"
   ]
  }
 ],
 "metadata": {
  "kernelspec": {
   "display_name": "Python 3 (ipykernel)",
   "language": "python",
   "name": "python3"
  },
  "language_info": {
   "codemirror_mode": {
    "name": "ipython",
    "version": 3
   },
   "file_extension": ".py",
   "mimetype": "text/x-python",
   "name": "python",
   "nbconvert_exporter": "python",
   "pygments_lexer": "ipython3",
   "version": "3.10.9"
  }
 },
 "nbformat": 4,
 "nbformat_minor": 5
}
